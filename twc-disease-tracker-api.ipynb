{
 "cells": [
  {
   "cell_type": "markdown",
   "metadata": {},
   "source": [
    "# Weather Company Data Disease Tracker API\n",
    "\n",
    "This notebook shows how an application can access the Weather Company Data Disease Tracker API endpoint.\n",
    "\n",
    "The API allows you to track the progression of a disease for a given location. It provides information regarding active diseases including confirmed cases, deaths, and recoveries over a period of up to 60 days in the past.\n",
    "\n",
    "## Obtain a Weather Company API Key\n",
    "\n",
    "If you're participating in the [Call for Code](https://developer.ibm.com/callforcode/) Global Challenge, go the the [special Call for Code Weather web site](https://callforcode.weather.com/) and [register](https://callforcode.weather.com/register). A time-limited API key will be sent to you via email. The documentation for the Weather Company APIs for Call for Code can be found the [here](https://callforcode.weather.com/documentation/).\n",
    "\n",
    "## (Optional) Obtain a HERE Location Services API Key\n",
    "\n",
    "When using the application you may pass it a geocode (i.e., '35.843686,-78.78548'), a postal key (e.g., 90210:US), or an address. If you pass an address, the application will try to use HERE Location Services for geocoding.\n",
    "\n",
    "To access the HERE Geocoding API, an API Key is required. Follow the instructions outlined in the [HERE Developer Portal](https://developer.here.com/ref/IBM_starterkit_Covid?create=Freemium-Basic) to generate a free [API Key](https://developer.here.com/documentation/authentication/dev_guide/topics/api-key-credentials.html).\n"
   ]
  },
  {
   "cell_type": "markdown",
   "metadata": {},
   "source": [
    "<br>\n",
    "\n",
    "**Upgrade/install `bokeh`**"
   ]
  },
  {
   "cell_type": "code",
   "execution_count": null,
   "metadata": {},
   "outputs": [],
   "source": [
    "!pip install --user bokeh==1.4.0 --upgrade"
   ]
  },
  {
   "cell_type": "markdown",
   "metadata": {},
   "source": [
    "<br>\n",
    "\n",
    "**Set API keys**\n",
    "\n",
    "1. Set your Weather Company Data API key (`TWC_APIKEY`) as an environment variable or directly in the next cell.\n",
    "1. (Optional) If would like to be able to pass an address (instead of geocode or postal key), set your HERE Location Services API key (`HERE_APIKEY`) as an environment variable or directly in the next cell.\n"
   ]
  },
  {
   "cell_type": "code",
   "execution_count": null,
   "metadata": {},
   "outputs": [],
   "source": [
    "# @hidden_cell\n",
    "\n",
    "import os\n",
    "\n",
    "TWC_APIKEY = os.getenv('TWC_APIKEY', '...')\n",
    "HERE_APIKEY = os.getenv('HERE_APIKEY', '...')\n"
   ]
  },
  {
   "cell_type": "markdown",
   "metadata": {},
   "source": [
    "<br>\n",
    "\n",
    "**Add helper functions to check and/or convert location**\n"
   ]
  },
  {
   "cell_type": "code",
   "execution_count": null,
   "metadata": {},
   "outputs": [],
   "source": [
    "import requests\n",
    "import re\n",
    "\n",
    "geocode_endpoint = 'https://geocode.search.hereapi.com/v1/geocode?q={address}&apiKey={api_key}'\n",
    "\n",
    "coordinates_regex = \"^[-+]?([1-8]?\\d(\\.\\d+)?|90(\\.0+)?),\\s*[-+]?(180(\\.0+)?|((1[0-7]\\d)|([1-9]?\\d))(\\.\\d+)?)$\"\n",
    "\n",
    "postalkey_regex = \".+:[a-zA-Z]{2}$\"\n",
    "\n",
    "\n",
    "def is_postalkey (location):\n",
    "    return isinstance(location, str) and re.match(postalkey_regex, location)\n",
    "\n",
    "\n",
    "def is_geocode (location):\n",
    "    geocode = None\n",
    "    if isinstance(location, str):\n",
    "        l = location.split(',')\n",
    "        if len(l) == 2:\n",
    "            geocode = '{},{}'.format(l[0].strip(), l[1].strip())\n",
    "    elif isinstance(location, list) and len(location) == 2:\n",
    "        geocode = ','.join(str(l) for l in location)\n",
    "        \n",
    "    if geocode is not None and re.match(coordinates_regex, geocode):\n",
    "        return [float(l) for l in location.split(',')]\n",
    "    else:\n",
    "        return False\n",
    "    \n",
    "\n",
    "def get_geocode (address):\n",
    "    g = is_geocode(address)\n",
    "\n",
    "    if not g:\n",
    "        url = geocode_endpoint.format(address=address, api_key=HERE_APIKEY)\n",
    "        response = requests.get(url)\n",
    "\n",
    "        if response.ok:\n",
    "            jsonResponse = response.json()\n",
    "            position = jsonResponse['items'][0]['position']\n",
    "            g = [position['lat'], position['lng']]\n",
    "        else:\n",
    "            print(response.text)\n",
    "            \n",
    "    return g\n"
   ]
  },
  {
   "cell_type": "markdown",
   "metadata": {},
   "source": [
    "<br>\n",
    "\n",
    "**Add function to query TWC API to get most recent report**\n"
   ]
  },
  {
   "cell_type": "code",
   "execution_count": null,
   "metadata": {},
   "outputs": [],
   "source": [
    "import requests\n",
    "\n",
    "# location_type = county, state, or country\n",
    "# duration = '60day'\n",
    "region_endpoint = 'https://api.weather.com/v3/wx/disease/tracker/{location_type}/{duration}?format=json&{location_param}={location}&apiKey={api_key}'\n",
    "\n",
    "global_endpoint = 'https://api.weather.com/v3/wx/disease/tracker/countryList/current?format=json&apiKey={api_key}'\n",
    "\n",
    "\n",
    "def get_covid_stats (location, location_type='county', duration='60day'):\n",
    "    loc = location if is_postalkey(location) else ','.join(map(str, location))\n",
    "\n",
    "    url = region_endpoint.format(\n",
    "        location_type=location_type,\n",
    "        duration=duration,\n",
    "        location_param='postalKey' if is_postalkey(location) else 'geocode',\n",
    "        location=loc,\n",
    "        api_key='{api_key}'\n",
    "    )\n",
    "    \n",
    "    print(url)\n",
    "    \n",
    "    url = url.format(api_key=TWC_APIKEY)\n",
    "\n",
    "    response = requests.get(url)\n",
    "\n",
    "    if response.ok:\n",
    "        jsonResponse = response.json()\n",
    "        covid_stats = jsonResponse['covid19']\n",
    "        return covid_stats\n",
    "    else:\n",
    "        print(response.text)\n",
    "        return {}\n",
    "    \n",
    "\n",
    "def get_covid_stats_df (location, location_type='county', duration='60day'):\n",
    "    stats = get_covid_stats(location, location_type, duration)\n",
    "    return pd.DataFrame(stats, columns=['dateReport', 'confirmed', 'deaths', 'recovered'])\n",
    "\n",
    "\n",
    "def get_covid_global_stats ():\n",
    "    print(global_endpoint)\n",
    "    \n",
    "    url = global_endpoint.format(api_key=TWC_APIKEY)\n",
    "\n",
    "    response = requests.get(url)\n",
    "\n",
    "    if response.ok:\n",
    "        jsonResponse = response.json()\n",
    "        covid_stats = jsonResponse['covid19']\n",
    "        return covid_stats\n",
    "    else:\n",
    "        print(response.text)\n",
    "        return {}\n",
    "    \n",
    "\n",
    "def get_covid_global_stats_df ():\n",
    "    stats = get_covid_global_stats()\n",
    "    return pd.DataFrame(stats, columns=['dateReport', 'recordLocation', 'totalPopulation', 'confirmed', 'deaths', 'recovered'])\n"
   ]
  },
  {
   "cell_type": "code",
   "execution_count": null,
   "metadata": {},
   "outputs": [],
   "source": [
    "import json\n",
    "\n",
    "g = get_geocode('boston, ma')\n",
    "stats = get_covid_stats(g)\n",
    "\n",
    "# Show response from: Disease Tracker - Country, State, County API\n",
    "# https://weather.com/swagger-docs/ui/sun/v3/sunV3DiseaseTracker.json\n",
    "print(json.dumps(stats, indent=2))\n"
   ]
  },
  {
   "cell_type": "code",
   "execution_count": null,
   "metadata": {},
   "outputs": [],
   "source": [
    "global_stats = get_covid_global_stats()\n",
    "\n",
    "# Show response from: Disease Tracker - Global Country List\n",
    "# https://weather.com/swagger-docs/ui/sun/v3/sunV3DiseaseTrackerCountryList.json\n",
    "print(json.dumps(global_stats, indent=2))\n"
   ]
  },
  {
   "cell_type": "markdown",
   "metadata": {},
   "source": [
    "<br>\n",
    "\n",
    "**Add function to plot the report received from TWC API**\n"
   ]
  },
  {
   "cell_type": "code",
   "execution_count": null,
   "metadata": {},
   "outputs": [],
   "source": [
    "from bokeh.plotting import figure\n",
    "from bokeh.models import HoverTool, ColumnDataSource\n",
    "from bokeh.io import output_notebook\n",
    "\n",
    "import numpy as np\n",
    "import pandas as pd\n",
    "\n",
    "output_notebook()\n",
    "\n",
    "def get_stats_plot(stats):\n",
    "    last_zero_day = stats['confirmed'].index(0) if 0 in stats['confirmed'] else len(stats['confirmed'])\n",
    "    \n",
    "    df = pd.DataFrame(stats, columns=['dateReport', 'confirmed', 'deaths'])[:last_zero_day + 1]\n",
    "    df['date'] = df['dateReport'].astype(np.datetime64)\n",
    "    \n",
    "    source = ColumnDataSource(df)\n",
    "    \n",
    "    plot = figure(plot_width=800, plot_height=600, x_axis_type='datetime')\n",
    "\n",
    "    confirmed_line = plot.line(source=source, x='date', y='confirmed', line_color='orange', line_width=2, legend_label='confirmed')\n",
    "    deaths_line = plot.line(source=source, x='date', y='deaths', line_color='red', line_width=2, legend_label='deaths')\n",
    "    \n",
    "    plot.title.text = 'Total COVID-19 reported cases by date for {} (Pop: {})'.format(stats['recordLocation'], stats['totalPopulation'])\n",
    "    plot.legend.location = 'top_left'\n",
    "    plot.xaxis.axis_label = 'date'\n",
    "    plot.yaxis.axis_label = 'reported cases'\n",
    "    plot.xaxis.ticker.desired_num_ticks = len(df) // 2\n",
    "    \n",
    "    hover = HoverTool(\n",
    "        tooltips=[\n",
    "            ('date', '@dateReport'),\n",
    "            ('confirmed', '@confirmed'),\n",
    "            ('deaths', '@deaths')\n",
    "        ],\n",
    "        mode='vline'\n",
    "    )\n",
    "    hover.renderers = [confirmed_line]\n",
    "\n",
    "    plot.add_tools(hover)\n",
    "    \n",
    "    return plot\n"
   ]
  },
  {
   "cell_type": "code",
   "execution_count": null,
   "metadata": {},
   "outputs": [],
   "source": [
    "from bokeh.io import show\n",
    "\n",
    "def show_progression_plot(address, report_type='county'):\n",
    "    geocode = get_geocode(address)\n",
    "    stats = get_covid_stats(geocode, location_type=report_type)\n",
    "#     print(stats)\n",
    "    plot = get_stats_plot(stats)\n",
    "    show(plot)\n",
    "\n",
    "\n",
    "def show_progress_table(address, report_type='county'):\n",
    "    geocode = get_geocode(address)\n",
    "    stats = get_covid_stats(geocode, location_type=report_type)\n",
    "    df = pd.DataFrame(stats, columns=['dateReport', 'confirmed', 'deaths'])\n",
    "    print(df)\n",
    "\n",
    "\n",
    "def countries_df():\n",
    "    stats = get_covid_global_stats()\n",
    "    columnNames = [k for k, v in stats.items()]\n",
    "    return pd.DataFrame(stats, columns=columnNames)\n"
   ]
  },
  {
   "cell_type": "markdown",
   "metadata": {},
   "source": [
    "<br>\n",
    "\n",
    "**Run**\n"
   ]
  },
  {
   "cell_type": "code",
   "execution_count": null,
   "metadata": {},
   "outputs": [],
   "source": [
    "show_progress_table('02109:US')\n",
    "# show_progress_table('42.3584, -71.0598')\n",
    "# show_progress_table('boston, ma')"
   ]
  },
  {
   "cell_type": "code",
   "execution_count": null,
   "metadata": {},
   "outputs": [],
   "source": [
    "# show_progression_plot('02109:US')\n",
    "show_progression_plot('42.3584, -71.0598')\n",
    "# show_progression_plot('New York, NY')"
   ]
  },
  {
   "cell_type": "code",
   "execution_count": null,
   "metadata": {},
   "outputs": [],
   "source": [
    "# Get top 10 countries with reported cases\n",
    "\n",
    "df = countries_df()\n",
    "\n",
    "top_countries = df[['recordLocation', 'confirmed', 'deaths']][:10]\n",
    "\n",
    "top_countries"
   ]
  },
  {
   "cell_type": "code",
   "execution_count": null,
   "metadata": {},
   "outputs": [],
   "source": [
    "from bokeh.transform import dodge\n",
    "from bokeh.models import FactorRange\n",
    "from math import pi\n",
    "\n",
    "\n",
    "countries = top_countries['recordLocation'].tolist()\n",
    "reports = ['confirmed', 'deaths']\n",
    "\n",
    "data = {\n",
    "    'countries': countries,\n",
    "    'confirmed': top_countries['confirmed'].astype(int).tolist(),\n",
    "    'deaths': top_countries['deaths'].astype(int).tolist()\n",
    "}\n",
    "\n",
    "source = ColumnDataSource(data=data)\n",
    "max_count = int(top_countries['confirmed'].max())\n",
    "\n",
    "plot = figure(x_range=countries, y_range=(0, max_count*1.1), plot_height=400, plot_width=800,\n",
    "           title='Top 10 countries by reported cases')\n",
    "\n",
    "confirmed_bar = plot.vbar(x=dodge('countries', -0.12, range=plot.x_range), top='confirmed', width=0.2, source=source,\n",
    "       color='orange', legend_label='confirmed')\n",
    "\n",
    "deaths_bar = plot.vbar(x=dodge('countries',  0.12,  range=plot.x_range), top='deaths', width=0.2, source=source,\n",
    "       color='red', legend_label='deaths')\n",
    "\n",
    "plot.x_range.range_padding = 0.1\n",
    "plot.xgrid.grid_line_color = None\n",
    "plot.xaxis.major_label_orientation = pi/4\n",
    "\n",
    "plot.legend.location = 'top_right'\n",
    "plot.legend.orientation = 'vertical'\n",
    "\n",
    "    \n",
    "hover = HoverTool(\n",
    "    tooltips=[\n",
    "        ('country', '@countries'),\n",
    "        ('confirmed', '@confirmed'),\n",
    "        ('deaths', '@deaths')\n",
    "    ]\n",
    ")\n",
    "hover.renderers = [confirmed_bar, deaths_bar]\n",
    "\n",
    "plot.add_tools(hover)\n",
    "\n",
    "\n",
    "show(plot)\n"
   ]
  },
  {
   "cell_type": "code",
   "execution_count": null,
   "metadata": {},
   "outputs": [],
   "source": []
  }
 ],
 "metadata": {
  "kernelspec": {
   "display_name": "Python 3",
   "language": "python",
   "name": "python3"
  },
  "language_info": {
   "codemirror_mode": {
    "name": "ipython",
    "version": 3
   },
   "file_extension": ".py",
   "mimetype": "text/x-python",
   "name": "python",
   "nbconvert_exporter": "python",
   "pygments_lexer": "ipython3",
   "version": "3.7.4"
  }
 },
 "nbformat": 4,
 "nbformat_minor": 4
}
